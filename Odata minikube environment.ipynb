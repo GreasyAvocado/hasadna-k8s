{
 "cells": [
  {
   "cell_type": "markdown",
   "metadata": {},
   "source": [
    "## Install Minikube\n",
    "\n",
    "Following command should work for Linux, for other OS, see [Minikube docs](https://github.com/kubernetes/minikube/blob/master/README.md#installation)\n",
    "\n",
    "```\n",
    "curl -LO https://storage.googleapis.com/minikube/releases/latest/minikube-linux-amd64 &&\\\n",
    "sudo install minikube-linux-amd64 /usr/local/bin/minikube &&\\\n",
    "rm minikube-linux-amd64\n",
    "```\n",
    "\n",
    "### (Optional) Ensure a clean Minikube cluster"
   ]
  },
  {
   "cell_type": "markdown",
   "metadata": {},
   "source": [
    "```\n",
    "minikube delete; rm -rf ~/.minikube\n",
    "```"
   ]
  },
  {
   "cell_type": "markdown",
   "metadata": {},
   "source": [
    "## Initialize the Odata Minikube environment\n",
    "\n",
    "Create the host path for persistent storage\n",
    "\n",
    "```\n",
    "sudo mkdir -p /var/odata-minikube-storage\n",
    "```\n",
    "\n",
    "Switch to the Odata Minikube environment\n",
    "\n",
    "```\n",
    "source switch_environment.sh odata-minikube\n",
    "```"
   ]
  },
  {
   "cell_type": "markdown",
   "metadata": {},
   "source": [
    "Initialize the cluster"
   ]
  },
  {
   "cell_type": "markdown",
   "metadata": {},
   "source": [
    "```\n",
    "charts-external/odata/deploy.sh --install-minikube\n",
    "```"
   ]
  },
  {
   "cell_type": "markdown",
   "metadata": {},
   "source": [
    "## Switch to the Odata Minikube environment"
   ]
  },
  {
   "cell_type": "code",
   "execution_count": 66,
   "metadata": {},
   "outputs": [
    {
     "name": "stdout",
     "output_type": "stream",
     "text": [
      "\u001b[01;33mminikube\u001b[0m$ Switching to odata-minikube  environment\n",
      "Switched to context \"minikube\".\n",
      "Connected to minikube\n"
     ]
    },
    {
     "ename": "",
     "evalue": "1",
     "execution_count": 66,
     "output_type": "error",
     "traceback": []
    }
   ],
   "source": [
    "source switch_environment.sh odata-minikube"
   ]
  },
  {
   "cell_type": "markdown",
   "metadata": {},
   "source": [
    "## Deploy\n",
    "\n",
    "You can either Deploy a clean environment from scratch or deploy from back (if you have the required credentials)\n",
    "\n",
    "### Deploy from scratch"
   ]
  },
  {
   "cell_type": "code",
   "execution_count": null,
   "metadata": {},
   "outputs": [],
   "source": [
    "charts-external/odata/deploy.sh --initialize"
   ]
  },
  {
   "cell_type": "markdown",
   "metadata": {},
   "source": [
    "### Deploy from backup\n",
    "\n",
    "You will need a Google service account file with permissions to the odata backups bucket"
   ]
  },
  {
   "cell_type": "code",
   "execution_count": 67,
   "metadata": {},
   "outputs": [
    {
     "name": "stdout",
     "output_type": "stream",
     "text": [
      "\u001b[01;33mminikube\u001b[0m$ \u001b[01;33mminikube\u001b[0m$ \u001b[01;33mminikube\u001b[0m$ \u001b[01;33mminikube\u001b[0m$ \u001b[01;33mminikube\u001b[0m$ Creating DB restore secret\n",
      "secret \"ckan-db-restore\" created\n",
      "Switched to context \"minikube\".\n",
      "Connected to minikube\n",
      "RELEASE_NAME=odata-minikube-odata-odata-minikube\n",
      "CHART_DIRECTORY=charts-external/odata\n",
      "WARNING: Namespace doesn't match with previous. Release will be deployed to odata-minikube\n",
      "Release \"odata-minikube-odata-odata-minikube\" has been upgraded. Happy Helming!\n",
      "LAST DEPLOYED: Thu Oct 11 21:57:45 2018\n",
      "NAMESPACE: odata-minikube\n",
      "STATUS: DEPLOYED\n",
      "\n",
      "RESOURCES:\n",
      "==> v1/ConfigMap\n",
      "NAME   AGE\n",
      "ckan   1d\n",
      "nginx  1d\n",
      "\n",
      "==> v1/Service\n",
      "ckan-jobs-db  1d\n",
      "ckan          1d\n",
      "datapusher    1d\n",
      "datastore-db  1d\n",
      "db            1d\n",
      "nginx         1d\n",
      "redis         1d\n",
      "solr          1d\n",
      "\n",
      "==> v1beta1/Deployment\n",
      "ckan          4s\n",
      "datastore-db  1d\n",
      "db            1d\n",
      "nginx         4s\n",
      "redis         1d\n",
      "solr          1d\n",
      "\n",
      "==> v1/Pod(related)\n",
      "\n",
      "NAME                          READY  STATUS             RESTARTS  AGE\n",
      "ckan-8cd5cf798-w6pxw          0/1    Init:0/3           0         3s\n",
      "datastore-db-5665c8bc5-6ljkk  1/1    Terminating        0         2h\n",
      "db-84d9d5477b-284lq           1/1    Terminating        0         2h\n",
      "nginx-69d85f565f-dkfpm        0/1    ContainerCreating  0         3s\n",
      "nginx-69d85f565f-z66hp        0/1    ContainerCreating  0         3s\n",
      "redis-6ff99b65d-sz4gm         1/1    Running            0         2h\n",
      "solr-76b79ddfdb-xvkpf         1/1    Terminating        0         2h\n",
      "\n",
      "\n",
      "Great Success!\n"
     ]
    },
    {
     "ename": "",
     "evalue": "1",
     "execution_count": 67,
     "output_type": "error",
     "traceback": []
    }
   ],
   "source": [
    "DEPLOY_FROM_BACKUP_SERVICE_ACCOUNT=/etc/ckan/odata-k8s-service-account.json\n",
    "# BACKUP_GS_URL=\"gs://odata-k8s-backups/production/blue/ckan-db-dump-$(date +%Y-%m-%d).ckan.dump\"\n",
    "BACKUP_GS_URL=\"gs://odata-k8s-backups/production/blue/ckan-db-dump-2018-10-10.ckan.dump\"\n",
    "\n",
    "charts-external/odata/deploy.sh --restore \"${DEPLOY_FROM_BACKUP_SERVICE_ACCOUNT}\" \"${BACKUP_GS_URL}\""
   ]
  },
  {
   "cell_type": "markdown",
   "metadata": {},
   "source": [
    "### Wait for pods to be in Running state"
   ]
  },
  {
   "cell_type": "code",
   "execution_count": 77,
   "metadata": {},
   "outputs": [
    {
     "name": "stdout",
     "output_type": "stream",
     "text": [
      "\u001b[01;33mminikube\u001b[0m$ NAME                           READY     STATUS    RESTARTS   AGE\n",
      "ckan-8cd5cf798-w6pxw           1/1       Running   0          8m\n",
      "datastore-db-5db4c9588-n69nk   1/1       Running   1          8m\n",
      "db-5cdddcbdb8-rpc2g            2/2       Running   0          8m\n",
      "nginx-69d85f565f-dkfpm         1/1       Running   0          8m\n",
      "nginx-69d85f565f-z66hp         1/1       Running   0          8m\n",
      "redis-6ff99b65d-sz4gm          1/1       Running   0          2h\n",
      "solr-5d586f64db-rkhdf          1/1       Running   0          8m\n"
     ]
    },
    {
     "ename": "",
     "evalue": "1",
     "execution_count": 77,
     "output_type": "error",
     "traceback": []
    }
   ],
   "source": [
    "kubectl get pods"
   ]
  },
  {
   "cell_type": "markdown",
   "metadata": {},
   "source": [
    "Some pods might take a while on first deploy due to pulling large Docker images and waiting for other components, please be patient.. it will start eventually\n",
    "\n",
    "You can use the following commands to inspect the main pods (ckan / datastore-db / db etc..)"
   ]
  },
  {
   "cell_type": "code",
   "execution_count": null,
   "metadata": {},
   "outputs": [],
   "source": [
    "# Describe the first pod serving deployment ckan\n",
    "./kubectl.sh describe ckan\n",
    "\n",
    "# Get logs of container secrets in the first pod serving deployment ckan\n",
    "./kubectl.sh logs ckan -c secrets\n",
    "\n",
    "# Get yaml of first pod serving deployment ckan\n",
    "./kubectl.sh get ckan -o yaml"
   ]
  },
  {
   "cell_type": "markdown",
   "metadata": {},
   "source": [
    "If CKAN API responds it's a good indication that environment was setup successfully"
   ]
  },
  {
   "cell_type": "code",
   "execution_count": 78,
   "metadata": {},
   "outputs": [
    {
     "name": "stdout",
     "output_type": "stream",
     "text": [
      "\u001b[01;33mminikube\u001b[0m$ {\"version\": 3}\n"
     ]
    },
    {
     "ename": "",
     "evalue": "1",
     "execution_count": 78,
     "output_type": "error",
     "traceback": []
    }
   ],
   "source": [
    "echo $(./kubectl.sh exec ckan -- wget -qO - http://127.0.0.1:5000/api/3)"
   ]
  },
  {
   "cell_type": "markdown",
   "metadata": {},
   "source": [
    "It should respond with `{\"version\": 3}`"
   ]
  },
  {
   "cell_type": "markdown",
   "metadata": {},
   "source": [
    "## Start port forwarding to access the CKAN web-app\n",
    "\n",
    "Open a new terminal and run:\n",
    "\n",
    "```\n",
    "./kubectl.sh port-forward nginx 5000:80\n",
    "```\n",
    "\n",
    "You will need to restart it if CKAN pod is restarted"
   ]
  },
  {
   "cell_type": "markdown",
   "metadata": {},
   "source": [
    "The web app should be available at http://localhost:5000"
   ]
  },
  {
   "cell_type": "markdown",
   "metadata": {},
   "source": [
    "## Start the pipelines server"
   ]
  },
  {
   "cell_type": "code",
   "execution_count": 131,
   "metadata": {},
   "outputs": [
    {
     "name": "stdout",
     "output_type": "stream",
     "text": [
      "\u001b[01;33mminikube\u001b[0m$ Switching to odata-minikube  environment\n",
      "Switched to context \"minikube\".\n",
      "Connected to minikube\n",
      "\u001b[01;33mminikube\u001b[0m$ Error from server (NotFound): secrets \"minikube-pipelines-sysadmin\" not found\n",
      "\u001b[01;33mminikube\u001b[0m$ Switched to context \"minikube\".\n",
      "Connected to minikube\n",
      "RELEASE_NAME=odata-minikube-odata-odata-minikube\n",
      "CHART_DIRECTORY=charts-external/odata\n",
      "Release \"odata-minikube-odata-odata-minikube\" has been upgraded. Happy Helming!\n",
      "LAST DEPLOYED: Thu Oct 11 22:23:53 2018\n",
      "NAMESPACE: odata-minikube\n",
      "STATUS: DEPLOYED\n",
      "\n",
      "RESOURCES:\n",
      "==> v1/ConfigMap\n",
      "NAME   AGE\n",
      "ckan   1d\n",
      "nginx  1d\n",
      "\n",
      "==> v1/Service\n",
      "ckan-jobs-db  1d\n",
      "ckan          1d\n",
      "datapusher    1d\n",
      "datastore-db  1d\n",
      "db            1d\n",
      "nginx         1d\n",
      "pipelines     17m\n",
      "redis         1d\n",
      "solr          1d\n",
      "\n",
      "==> v1beta1/Deployment\n",
      "ckan          26m\n",
      "ckan-jobs-db  17m\n",
      "ckan-jobs     1m\n",
      "datastore-db  1d\n",
      "db            1d\n",
      "nginx         26m\n",
      "pipelines     17m\n",
      "redis         1d\n",
      "solr          1d\n",
      "\n",
      "==> v1/Pod(related)\n",
      "\n",
      "NAME                           READY  STATUS       RESTARTS  AGE\n",
      "ckan-745967dbb5-4m79p          1/1    Running      1         11m\n",
      "ckan-jobs-db-54565fbc7c-tx9mv  1/1    Running      0         17m\n",
      "ckan-jobs-d96889856-29cwp      2/2    Running      0         1m\n",
      "datastore-db-5665c8bc5-7tc9m   1/1    Running      0         16m\n",
      "db-84d9d5477b-mxhtw            1/1    Running      0         16m\n",
      "nginx-69d85f565f-dkfpm         1/1    Running      0         26m\n",
      "nginx-69d85f565f-z66hp         1/1    Running      0         26m\n",
      "pipelines-66f9cbb64-z87vl      1/1    Terminating  1         16m\n",
      "redis-6ff99b65d-sz4gm          1/1    Running      0         2h\n",
      "solr-76b79ddfdb-fk25s          1/1    Running      0         15m\n",
      "\n",
      "\n",
      "Great Success!\n"
     ]
    },
    {
     "ename": "",
     "evalue": "1",
     "execution_count": 131,
     "output_type": "error",
     "traceback": []
    }
   ],
   "source": [
    "source switch_environment.sh odata-minikube\n",
    "./helm_upgrade_external_chart.sh odata --force \\\n",
    "    --set pipelines.enabled=true \\\n",
    "    --set pipelines.sysadminUser=minikube-pipelines-sysadmin-`date +%s` \\\n",
    "    --set pipelines.sysadminEmail=minikube-pipelines-sysadmin-`date +%s`@localhost \\\n",
    "    --set pipelines.secretName=minikube-pipelines-sysadmin-`date +%s`"
   ]
  },
  {
   "cell_type": "markdown",
   "metadata": {},
   "source": [
    "#### Wait for pods to be in Running state"
   ]
  },
  {
   "cell_type": "code",
   "execution_count": 154,
   "metadata": {},
   "outputs": [
    {
     "name": "stdout",
     "output_type": "stream",
     "text": [
      "\u001b[01;33mminikube\u001b[0m$ NAME                            READY     STATUS    RESTARTS   AGE\n",
      "ckan-745967dbb5-4m79p           1/1       Running   1          14m\n",
      "ckan-jobs-d96889856-29cwp       2/2       Running   0          3m\n",
      "ckan-jobs-db-54565fbc7c-tx9mv   1/1       Running   0          19m\n",
      "datastore-db-5665c8bc5-7tc9m    1/1       Running   0          18m\n",
      "db-84d9d5477b-mxhtw             1/1       Running   0          18m\n",
      "nginx-69d85f565f-dkfpm          1/1       Running   0          28m\n",
      "nginx-69d85f565f-z66hp          1/1       Running   0          28m\n",
      "pipelines-785b68d89d-lfb4d      1/1       Running   0          1m\n",
      "redis-6ff99b65d-sz4gm           1/1       Running   0          2h\n",
      "solr-76b79ddfdb-fk25s           1/1       Running   0          17m\n"
     ]
    },
    {
     "ename": "",
     "evalue": "1",
     "execution_count": 154,
     "output_type": "error",
     "traceback": []
    }
   ],
   "source": [
    "kubectl get pods"
   ]
  },
  {
   "cell_type": "markdown",
   "metadata": {},
   "source": [
    "#### Using the pipelines server\n",
    "\n",
    "In Minikube environment pipelines server is run in manual mode by default, so the pipelines dashboard is not available and scheduled pipelines are disabled.\n",
    "\n",
    "You can run the pipelines manually\n",
    "\n",
    "Pipelines server might take a minute to start, if you encounter problems, try to restart it and also the ckan server which updates the pipelines code on startup.\n",
    "\n",
    "#### List the available pipelines"
   ]
  },
  {
   "cell_type": "code",
   "execution_count": 155,
   "metadata": {},
   "outputs": [
    {
     "name": "stdout",
     "output_type": "stream",
     "text": [
      "\u001b[01;33mminikube\u001b[0m$ Available Pipelines:\n",
      "- ./ckanext-upload_via_email/upload_via_email (*)\n",
      "- ./ckanext-odata_org_il/download_foi_offices \n",
      "- ./ckanext-odata_org_il/download_foi_offices_xml (*)\n",
      "- ./ckanext-odata_org_il/download_foi_offices_matching_resource (*)\n",
      "- ./ckanext-odata_org_il/update_foi_offices_resource (*)\n",
      "- ./ckanext-odata_org_il/update_foi_offices_entities (*)(E)\n",
      "\tDirty dependency: Cannot run until dependency is executed: ./ckanext-odata_org_il/update_foi_offices_resource\n",
      "\tDirty dependency: Cannot run until dependency is executed: ./ckanext-odata_org_il/download_foi_offices_matching_resource\n",
      "- ./ckanext-odata_org_il/export_entities_resource (*)\n",
      "- ./ckanext-odata_org_il/dump_group_datasets \n"
     ]
    },
    {
     "ename": "",
     "evalue": "1",
     "execution_count": 155,
     "output_type": "error",
     "traceback": []
    }
   ],
   "source": [
    "./kubectl.sh exec pipelines dpp"
   ]
  },
  {
   "cell_type": "markdown",
   "metadata": {},
   "source": [
    "#### Run a pipeline"
   ]
  },
  {
   "cell_type": "code",
   "execution_count": null,
   "metadata": {},
   "outputs": [],
   "source": [
    "./kubectl.sh exec pipelines -- dpp run --verbose ./ckanext-odata_org_il/download_foi_offices"
   ]
  },
  {
   "cell_type": "markdown",
   "metadata": {},
   "source": [
    "#### Check the generated datapackage"
   ]
  },
  {
   "cell_type": "code",
   "execution_count": null,
   "metadata": {},
   "outputs": [],
   "source": [
    "./kubectl.sh exec pipelines -- cat /var/lib/ckan/data/pipelines/odata_org_il/new_foi_offices/datapackage.json | jq"
   ]
  },
  {
   "cell_type": "markdown",
   "metadata": {},
   "source": [
    "#### Additional Tasks"
   ]
  },
  {
   "cell_type": "code",
   "execution_count": 159,
   "metadata": {},
   "outputs": [
    {
     "name": "stdout",
     "output_type": "stream",
     "text": [
      "\u001b[01;33mminikube\u001b[0m$ INFO    :RESULTS:\n",
      "INFO    :SUCCESS: ./ckanext-odata_org_il/dump_group_datasets {'bytes': 188467, 'count_of_rows': 414, 'dataset_name': '_', 'existing_groups_without_entity': 207, 'hash': '3191e5d0642d71392f68c829c18bc31f'}\n",
      "\u001b[1A\n",
      "\u001b[2K./ckanext-odata_org_il/dump_group_datasets: \u001b[31mWAITING FOR OUTPUT\u001b[0m\n",
      "\u001b[2A\n",
      "\u001b[2K./ckanext-odata_org_il/dump_group_datasets: \u001b[33mRUNNING, processed 100 rows\u001b[0m\n",
      "\u001b[2A\n",
      "\u001b[2K./ckanext-odata_org_il/dump_group_datasets: \u001b[33mRUNNING, processed 200 rows\u001b[0m\n",
      "\u001b[2A\n",
      "\u001b[2K./ckanext-odata_org_il/dump_group_datasets: \u001b[33mRUNNING, processed 300 rows\u001b[0m\n",
      "\u001b[2A\n",
      "\u001b[2K./ckanext-odata_org_il/dump_group_datasets: \u001b[33mRUNNING, processed 400 rows\u001b[0m\n",
      "\u001b[2A\n",
      "\u001b[2K./ckanext-odata_org_il/dump_group_datasets: \u001b[33mRUNNING, processed 414 rows\u001b[0m\n",
      "\u001b[2A\n",
      "\u001b[2K./ckanext-odata_org_il/dump_group_datasets: \u001b[32mSUCCESS, processed 414 rows\u001b[0m\n"
     ]
    },
    {
     "ename": "",
     "evalue": "1",
     "execution_count": 159,
     "output_type": "error",
     "traceback": []
    }
   ],
   "source": [
    "./kubectl.sh exec pipelines -- dpp init &&\\\n",
    "./kubectl.sh exec pipelines -- dpp run ./ckanext-odata_org_il/dump_group_datasets"
   ]
  },
  {
   "cell_type": "code",
   "execution_count": 168,
   "metadata": {},
   "outputs": [
    {
     "name": "stdout",
     "output_type": "stream",
     "text": [
      "\u001b[01;33mminikube\u001b[0m$ \u001b[01;33mminikube\u001b[0m$ \u001b[01;33mminikube\u001b[0m$ \u001b[01;33mminikube\u001b[0m$ \n",
      "\u001b[01;33mminikube\u001b[0m$ DATASET_ID=8f9244c5-2cef-4f71-bc28-d73da1ed6368\n",
      "\u001b[01;33mminikube\u001b[0m$ GROUP_ID=4ae1ad21-c186-425f-8f5a-6c75f9eee1ae\n",
      "\u001b[01;33mminikube\u001b[0m$ \u001b[01;33mminikube\u001b[0m$ אוניברסיטת אריאל בשומרון,4ae1ad21-c186-425f-8f5a-6c75f9eee1ae,ariel,,\"{\"\"approval_status\"\": \"\"approved\"\", \"\"created\"\": \"\"2018-04-09T09:00:55.264550\"\", \"\"description\"\": \"\"\"\", \"\"display_name\"\": \"\"אוניברסיטת אריאל בשומרון\"\", \"\"extras\"\": [{\"\"group_id\"\": \"\"4ae1ad21-c186-425f-8f5a-6c75f9eee1ae\"\", \"\"id\"\": \"\"72794b42-487a-4c78-b329-ee719efd5986\"\", \"\"key\"\": \"\"OfficeNameCode\"\", \"\"revision_id\"\": \"\"fd94e3ec-7d01-4291-983d-f38dbf5fa8fc\"\", \"\"state\"\": \"\"active\"\", \"\"value\"\": \"\"7047\"\"}], \"\"id\"\": \"\"4ae1ad21-c186-425f-8f5a-6c75f9eee1ae\"\", \"\"image_display_url\"\": \"\"http://www.ariel.ac.il/templates/ArielUniversityHEv1/images/new_logo.png\"\", \"\"image_url\"\": \"\"http://www.ariel.ac.il/templates/ArielUniversityHEv1/images/new_logo.png\"\", \"\"is_organization\"\": false, \"\"name\"\": \"\"ariel\"\", \"\"num_followers\"\": 0, \"\"revision_id\"\": \"\"ec2a303f-e9dc-4599-a2d4-f823738795b4\"\", \"\"state\"\": \"\"active\"\", \"\"title\"\": \"\"אוניברסיטת אריאל בשומרון\"\", \"\"type\"\": \"\"group\"\"}\"\n"
     ]
    },
    {
     "ename": "",
     "evalue": "1",
     "execution_count": 168,
     "output_type": "error",
     "traceback": []
    }
   ],
   "source": [
    "DATASET_ID=\"8f9244c5-2cef-4f71-bc28-d73da1ed6368\"\n",
    "GROUP_ID=`kubectl exec $(./kubectl.sh get-pod-name pipelines) -- bash -c \\\n",
    "              'cat /var/lib/ckan/data/pipelines/odata_org_il/dump_group_datasets/group_datasets.csv | grep '${DATASET_ID}' | cut -d\",\" -f1 -'`\n",
    "\n",
    "echo\n",
    "echo DATASET_ID=${DATASET_ID}\n",
    "echo GROUP_ID=${GROUP_ID}\n",
    "\n",
    "kubectl exec $(./kubectl.sh get-pod-name pipelines) -- bash -c \\\n",
    "    'cat /var/lib/ckan/data/pipelines/odata_org_il/dump_group_datasets/existing_entities.csv | grep '${GROUP_ID}"
   ]
  },
  {
   "cell_type": "code",
   "execution_count": null,
   "metadata": {},
   "outputs": [
    {
     "name": "stdout",
     "output_type": "stream",
     "text": [
      "\u001b[01;33mhasadna-general-hasadna-cluster-odata-blue\u001b[0m$ Switching to odata  environment\n",
      "Switched to context \"gke_hasadna-general_europe-west1-b_hasadna-cluster\".\n",
      "Connected to hasadna-general-hasadna-cluster-odata-blue\n",
      "\u001b[01;33mhasadna-general-hasadna-cluster-odata-blue\u001b[0m$ "
     ]
    }
   ],
   "source": [
    "source switch_environment.sh odata\n",
    "# kubectl get pods\n",
    "git pull hasadna master\n",
    "./helm_upgrade_external_chart.sh odata\n",
    "# kubectl exec $(./kubectl.sh get-pod-name pipelines) -- dpp"
   ]
  },
  {
   "cell_type": "markdown",
   "metadata": {},
   "source": [
    "## Local Development of odata ckan\n",
    "\n",
    "#### Install supervisord\n",
    "\n",
    "Supervisord is used to run and manage background processes for the development environment\n",
    "\n",
    "```\n",
    "sudo easy_install supervisor\n",
    "```"
   ]
  },
  {
   "cell_type": "markdown",
   "metadata": {},
   "source": [
    "#### Ensure all components are deployed and working\n"
   ]
  },
  {
   "cell_type": "code",
   "execution_count": null,
   "metadata": {},
   "outputs": [],
   "source": [
    "source switch_environment.sh odata-minikube\n",
    "./helm_upgrade_external_chart.sh odata --force --set pipelines.enabled=true"
   ]
  },
  {
   "cell_type": "code",
   "execution_count": null,
   "metadata": {},
   "outputs": [],
   "source": [
    "kubectl get pods"
   ]
  },
  {
   "cell_type": "markdown",
   "metadata": {},
   "source": [
    "#### Start the supervisord daemon\n",
    "\n",
    "This starts port forwards for all the infrastructure componnets from localhost to the Minikube cluster"
   ]
  },
  {
   "cell_type": "code",
   "execution_count": null,
   "metadata": {},
   "outputs": [],
   "source": [
    "supervisord -c environments/odata-minikube/local-dev-supervisord.conf"
   ]
  },
  {
   "cell_type": "markdown",
   "metadata": {},
   "source": [
    "#### Ensure all port forwards are running"
   ]
  },
  {
   "cell_type": "code",
   "execution_count": null,
   "metadata": {},
   "outputs": [],
   "source": [
    "supervisorctl -c environments/odata-minikube/local-dev-supervisord.conf status"
   ]
  },
  {
   "cell_type": "markdown",
   "metadata": {},
   "source": [
    "#### Try a reload if there are problems"
   ]
  },
  {
   "cell_type": "code",
   "execution_count": null,
   "metadata": {},
   "outputs": [],
   "source": [
    "supervisorctl -c environments/odata-minikube/local-dev-supervisord.conf reload"
   ]
  },
  {
   "cell_type": "code",
   "execution_count": null,
   "metadata": {},
   "outputs": [],
   "source": [
    "supervisorctl -c environments/odata-minikube/local-dev-supervisord.conf status"
   ]
  },
  {
   "cell_type": "markdown",
   "metadata": {},
   "source": [
    "#### Clone the data4dappl project"
   ]
  },
  {
   "cell_type": "code",
   "execution_count": null,
   "metadata": {},
   "outputs": [],
   "source": [
    "! [ -e ../data4dappl ] && git clone https://github.com/OriHoch/data4dappl.git ../data4dappl"
   ]
  },
  {
   "cell_type": "markdown",
   "metadata": {},
   "source": [
    "#### Prepare the CKAN configuration file\n",
    "\n",
    "This copies the configuartion from the minikube ckan pod and modifies some values to make it suitable for local development"
   ]
  },
  {
   "cell_type": "code",
   "execution_count": null,
   "metadata": {},
   "outputs": [],
   "source": [
    "CKAN_LOCAL_DEVELOPMENT_INI=\"environments/odata-minikube/ckan-local-development.ini\"\n",
    "CKAN_LOCAL_DEVELOPMENT_WHO_INI=\"environments/odata-minikube/who.ini\"\n",
    "\n",
    "# delete the existing file to force recreate of the configuration file\n",
    "rm -f \"${CKAN_LOCAL_DEVELOPMENT_INI}\"\n",
    "\n",
    "if ! [ -e \"${CKAN_LOCAL_DEVELOPMENT_INI}\" ]; then\n",
    "    echo Modfying configuration file from pod, saving to \"${CKAN_LOCAL_DEVELOPMENT_INI}\"\n",
    "    ./kubectl.sh exec ckan cat /etc/ckan/production.ini \\\n",
    "        | sed -e 's/redis:6379/localhost:6379/g' \\\n",
    "        | sed -e 's/solr:8983/localhost:8983/g' \\\n",
    "        | sed -e 's/db\\/ckan/localhost\\/ckan/g' \\\n",
    "        | sed -e 's/ckan-jobs-db\\/postgres/localhost:5433\\/postgres/g' \\\n",
    "        | sed -e 's/datastore-db\\/datastore/localhost:5434\\/datastore/g' \\\n",
    "            > \"${CKAN_LOCAL_DEVELOPMENT_INI}\" &&\\\n",
    "    ./kubectl.sh exec ckan cat /etc/ckan/who.ini > \"${CKAN_LOCAL_DEVELOPMENT_WHO_INI}\"\n",
    "    if [ \"$?\" == \"0\" ]; then\n",
    "        echo Great Success\n",
    "    else\n",
    "        echo Failed to process configuration file\n",
    "    fi\n",
    "else\n",
    "    echo Configuration file already exists, delete to recreate: \"${CKAN_LOCAL_DEVELOPMENT_INI}\"\n",
    "fi"
   ]
  },
  {
   "cell_type": "markdown",
   "metadata": {},
   "source": [
    "#### Install the project dependencies"
   ]
  },
  {
   "cell_type": "code",
   "execution_count": null,
   "metadata": {},
   "outputs": [],
   "source": [
    "( cd ../data4dappl; bin/install.sh )"
   ]
  },
  {
   "cell_type": "markdown",
   "metadata": {},
   "source": [
    "#### Start Gunicorn which serves the CKAN web-app"
   ]
  },
  {
   "cell_type": "code",
   "execution_count": null,
   "metadata": {},
   "outputs": [],
   "source": [
    "( cd ../data4dappl\n",
    "  pipenv run gunicorn \\\n",
    "      --paste ../hasadna-k8s/${CKAN_LOCAL_DEVELOPMENT_INI:-environments/odata-minikube/ckan-local-development.ini} )"
   ]
  },
  {
   "cell_type": "markdown",
   "metadata": {},
   "source": [
    "Site should be available at http://localhost:5000"
   ]
  },
  {
   "cell_type": "markdown",
   "metadata": {},
   "source": [
    "#### Start Gunicorn in the background"
   ]
  },
  {
   "cell_type": "code",
   "execution_count": null,
   "metadata": {},
   "outputs": [],
   "source": [
    "supervisorctl -c environments/odata-minikube/local-dev-supervisord.conf start ckan-gunicorn"
   ]
  },
  {
   "cell_type": "markdown",
   "metadata": {},
   "source": [
    "#### Get Gunicorn logs"
   ]
  },
  {
   "cell_type": "code",
   "execution_count": null,
   "metadata": {},
   "outputs": [],
   "source": [
    "supervisorctl -c environments/odata-minikube/local-dev-supervisord.conf tail ckan-gunicorn"
   ]
  },
  {
   "cell_type": "markdown",
   "metadata": {},
   "source": [
    "#### Restart Services and port-forwards\n",
    "\n",
    "Once everything is setup you should run this to ensure services are connected and working properly\n",
    "\n",
    "Occasionally you might need to run this again if you encounter wierd problems"
   ]
  },
  {
   "cell_type": "code",
   "execution_count": null,
   "metadata": {},
   "outputs": [],
   "source": [
    "echo Remove deployments which should run locally\n",
    "kubectl delete deployment --namespace odata-minikube --context minikube ckan nginx ckan-jobs pipelines\n",
    "\n",
    "echo Force restart of infrastructure components\n",
    "for DEPLOYMENT in db datastore-db ckan-jobs-db redis solr; do\n",
    "    ./force_update.sh $DEPLOYMENT &\n",
    "done\n",
    "wait\n",
    "\n",
    "echo reload gunicorn\n",
    "supervisorctl -c environments/odata-minikube/local-dev-supervisord.conf reload\n",
    "while [ \"5\" != \"`supervisorctl -c environments/odata-minikube/local-dev-supervisord.conf status | tee -a /dev/stderr | grep RUNNING | wc -l`\" ]\n",
    "do sleep 2; done\n",
    "\n",
    "echo Start all services\n",
    "supervisorctl -c environments/odata-minikube/local-dev-supervisord.conf start all\n",
    "while [ \"7\" != \"`supervisorctl -c environments/odata-minikube/local-dev-supervisord.conf status | tee -a /dev/stderr | grep RUNNING | wc -l`\" ]\n",
    "do sleep 2; done"
   ]
  },
  {
   "cell_type": "markdown",
   "metadata": {},
   "source": [
    "Site should be available at http://localhost:5000"
   ]
  },
  {
   "cell_type": "markdown",
   "metadata": {},
   "source": [
    "## Local Development of Odata CKAN Pipelines\n",
    "\n",
    "You should run the steps for local development of CKAN first\n",
    "\n",
    "Create a pipenv for the pipelines"
   ]
  },
  {
   "cell_type": "code",
   "execution_count": null,
   "metadata": {},
   "outputs": [],
   "source": [
    "TEMPFILE=`mktemp`\n",
    "curl https://raw.githubusercontent.com/OriHoch/ckanext-datapackage_pipelines/master/datapackage_pipelines_ckanext/requirements.txt > $TEMPFILE\n",
    "( cd ../data4dappl/ckan/ckanext-odata_org_il/ckanext/odata_org_il/pipelines\n",
    "  pipenv install --python 3 &&\\\n",
    "  pipenv install -r $TEMPFILE &&\\\n",
    "  pipenv run pip install \\\n",
    "      -e 'git+https://github.com/OriHoch/ckanext-datapackage_pipelines#subdirectory=datapackage_pipelines_ckanext&egg=datapackage_pipelines_ckanext'\n",
    ")\n",
    "rm $TEMPFILE"
   ]
  },
  {
   "cell_type": "markdown",
   "metadata": {},
   "source": [
    "#### Set the required env vars to run the pipelines\n",
    "\n",
    "If you are restoring from backup, you can use your own admin api key which you can get from the web UI"
   ]
  },
  {
   "cell_type": "code",
   "execution_count": null,
   "metadata": {},
   "outputs": [],
   "source": [
    "export CKAN_API_KEY=`kubectl get secrets --context=minikube --namespace=odata-minikube pipelines-sysadmin -o json | jq -r .data.apikey | base64 -d`\n",
    "export CKAN_URL='http://localhost:5000'"
   ]
  },
  {
   "cell_type": "markdown",
   "metadata": {},
   "source": [
    "#### List the available pipelines"
   ]
  },
  {
   "cell_type": "code",
   "execution_count": null,
   "metadata": {},
   "outputs": [],
   "source": [
    "( cd ../data4dappl/ckan/ckanext-odata_org_il/ckanext/odata_org_il/pipelines\n",
    "  pipenv run dpp )"
   ]
  },
  {
   "cell_type": "markdown",
   "metadata": {},
   "source": [
    "#### Run a pipeline"
   ]
  },
  {
   "cell_type": "code",
   "execution_count": null,
   "metadata": {},
   "outputs": [],
   "source": [
    "# Force recreate of the foi offices resource\n",
    "rm -rf /var/lib/ckan/pipelines/odata_org_il/foi_offices\n",
    "\n",
    "( cd ../data4dappl/ckan/ckanext-odata_org_il/ckanext/odata_org_il/pipelines\n",
    "  pipenv run dpp run --verbose ./download_foi_offices,./update_foi_offices_resource )"
   ]
  },
  {
   "cell_type": "code",
   "execution_count": null,
   "metadata": {},
   "outputs": [],
   "source": []
  }
 ],
 "metadata": {
  "kernelspec": {
   "display_name": "Bash",
   "language": "bash",
   "name": "bash"
  },
  "language_info": {
   "codemirror_mode": "shell",
   "file_extension": ".sh",
   "mimetype": "text/x-sh",
   "name": "bash"
  }
 },
 "nbformat": 4,
 "nbformat_minor": 2
}
