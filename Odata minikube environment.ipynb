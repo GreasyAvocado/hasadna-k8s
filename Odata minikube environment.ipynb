{
 "cells": [
  {
   "cell_type": "markdown",
   "metadata": {},
   "source": [
    "## Install Minikube\n",
    "\n",
    "Following command should work for Linux, for other OS, see [Minikube docs](https://github.com/kubernetes/minikube/blob/master/README.md#installation)\n",
    "\n",
    "```\n",
    "curl -LO https://storage.googleapis.com/minikube/releases/latest/minikube-linux-amd64 &&\\\n",
    "sudo install minikube-linux-amd64 /usr/local/bin/minikube &&\\\n",
    "rm minikube-linux-amd64\n",
    "```\n",
    "\n",
    "### (Optional) Ensure a clean Minikube cluster"
   ]
  },
  {
   "cell_type": "markdown",
   "metadata": {},
   "source": [
    "```\n",
    "minikube delete; rm -rf ~/.minikube\n",
    "```"
   ]
  },
  {
   "cell_type": "markdown",
   "metadata": {},
   "source": [
    "## Initialize the Odata Minikube environment\n",
    "\n",
    "Create the host path for persistent storage\n",
    "\n",
    "```\n",
    "sudo mkdir -p /var/odata-minikube-storage\n",
    "```\n",
    "\n",
    "Switch to the Odata Minikube environment\n",
    "\n",
    "```\n",
    "source switch_environment.sh odata-minikube\n",
    "```"
   ]
  },
  {
   "cell_type": "markdown",
   "metadata": {},
   "source": [
    "Initialize the cluster"
   ]
  },
  {
   "cell_type": "markdown",
   "metadata": {},
   "source": [
    "```\n",
    "charts-external/odata/deploy.sh --install-minikube\n",
    "```"
   ]
  },
  {
   "cell_type": "markdown",
   "metadata": {},
   "source": [
    "## Switch to the Odata Minikube environment"
   ]
  },
  {
   "cell_type": "code",
   "execution_count": null,
   "metadata": {},
   "outputs": [],
   "source": [
    "source switch_environment.sh odata-minikube"
   ]
  },
  {
   "cell_type": "markdown",
   "metadata": {},
   "source": [
    "## Deploy\n",
    "\n",
    "You can either Deploy a clean environment from scratch or deploy from back (if you have the required credentials)\n",
    "\n",
    "### Deploy from scratch"
   ]
  },
  {
   "cell_type": "code",
   "execution_count": null,
   "metadata": {},
   "outputs": [],
   "source": [
    "charts-external/odata/deploy.sh --initialize"
   ]
  },
  {
   "cell_type": "markdown",
   "metadata": {},
   "source": [
    "### Deploy from backup\n",
    "\n",
    "You will need a Google service account file with permissions to the odata backups bucket"
   ]
  },
  {
   "cell_type": "code",
   "execution_count": null,
   "metadata": {},
   "outputs": [],
   "source": [
    "# DEPLOY_FROM_BACKUP_SERVICE_ACCOUNT=\n",
    "\n",
    "charts-external/odata/deploy.sh --restore \\\n",
    "    \"${DEPLOY_FROM_BACKUP_SERVICE_ACCOUNT}\" \\\n",
    "    gs://odata-k8s-backups/production/blue/ckan-db-dump-$(date +%Y-%m-%d).ckan.dump"
   ]
  },
  {
   "cell_type": "markdown",
   "metadata": {},
   "source": [
    "### Wait for pods to be in Running state"
   ]
  },
  {
   "cell_type": "code",
   "execution_count": null,
   "metadata": {},
   "outputs": [],
   "source": [
    "kubectl get pods"
   ]
  },
  {
   "cell_type": "markdown",
   "metadata": {},
   "source": [
    "Some pods might take a while on first deploy due to pulling large Docker images and waiting for other components, please be patient.. it will start eventually\n",
    "\n",
    "You can use the following commands to inspect the main pods (ckan / datastore-db / db etc..)"
   ]
  },
  {
   "cell_type": "code",
   "execution_count": null,
   "metadata": {},
   "outputs": [],
   "source": [
    "# Describe the first pod serving deployment ckan\n",
    "./kubectl.sh describe ckan\n",
    "\n",
    "# Get logs of container secrets in the first pod serving deployment ckan\n",
    "./kubectl.sh logs ckan -c secrets\n",
    "\n",
    "# Get yaml of first pod serving deployment ckan\n",
    "./kubectl.sh get ckan -o yaml"
   ]
  },
  {
   "cell_type": "markdown",
   "metadata": {},
   "source": [
    "If CKAN API responds it's a good indication that environment was setup successfully"
   ]
  },
  {
   "cell_type": "code",
   "execution_count": null,
   "metadata": {},
   "outputs": [],
   "source": [
    "echo $(./kubectl.sh exec ckan -- wget -qO - http://127.0.0.1:5000/api/3)"
   ]
  },
  {
   "cell_type": "markdown",
   "metadata": {},
   "source": [
    "It should respond with `{\"version\": 3}`"
   ]
  },
  {
   "cell_type": "markdown",
   "metadata": {},
   "source": [
    "## Start port forwarding to access the CKAN web-app\n",
    "\n",
    "Open a new terminal and run:\n",
    "\n",
    "```\n",
    "./kubectl.sh port-forward nginx 5000:80\n",
    "```\n",
    "\n",
    "You will need to restart it if CKAN pod is restarted"
   ]
  },
  {
   "cell_type": "markdown",
   "metadata": {},
   "source": [
    "The web app should be available at http://localhost:5000"
   ]
  },
  {
   "cell_type": "markdown",
   "metadata": {},
   "source": [
    "## Start the pipelines server"
   ]
  },
  {
   "cell_type": "code",
   "execution_count": null,
   "metadata": {},
   "outputs": [],
   "source": [
    "charts-external/odata/deploy.sh --force --set pipelines.enabled=true"
   ]
  },
  {
   "cell_type": "markdown",
   "metadata": {},
   "source": [
    "#### Wait for pods to be in Running state"
   ]
  },
  {
   "cell_type": "code",
   "execution_count": null,
   "metadata": {},
   "outputs": [],
   "source": [
    "kubectl get pods"
   ]
  },
  {
   "cell_type": "markdown",
   "metadata": {},
   "source": [
    "#### Using the pipelines server\n",
    "\n",
    "In Minikube environment pipelines server is run in manual mode by default, so the pipelines dashboard is not available and scheduled pipelines are disabled.\n",
    "\n",
    "You can run the pipelines manually\n",
    "\n",
    "#### List the available pipelines"
   ]
  },
  {
   "cell_type": "code",
   "execution_count": null,
   "metadata": {},
   "outputs": [],
   "source": [
    "./kubectl.sh exec pipelines dpp"
   ]
  },
  {
   "cell_type": "markdown",
   "metadata": {},
   "source": [
    "#### Run a pipeline"
   ]
  },
  {
   "cell_type": "code",
   "execution_count": null,
   "metadata": {},
   "outputs": [],
   "source": [
    "./kubectl.sh exec pipelines -- dpp run --verbose ./ckanext-odata_org_il/download_foi_offices"
   ]
  },
  {
   "cell_type": "markdown",
   "metadata": {},
   "source": [
    "#### Check the generated datapackage"
   ]
  },
  {
   "cell_type": "code",
   "execution_count": null,
   "metadata": {},
   "outputs": [],
   "source": [
    "./kubectl.sh exec pipelines -- cat /var/lib/ckan/data/pipelines/odata_org_il/new_foi_offices/datapackage.json | jq"
   ]
  },
  {
   "cell_type": "markdown",
   "metadata": {},
   "source": [
    "## Local Development of odata ckan\n",
    "\n",
    "#### Install supervisord\n",
    "\n",
    "Supervisord is used to run and manage background processes for the development environment\n",
    "\n",
    "```\n",
    "sudo easy_install supervisor\n",
    "```"
   ]
  },
  {
   "cell_type": "markdown",
   "metadata": {},
   "source": [
    "#### Ensure all components are deployed and working"
   ]
  },
  {
   "cell_type": "code",
   "execution_count": 20,
   "metadata": {},
   "outputs": [
    {
     "name": "stdout",
     "output_type": "stream",
     "text": [
      "\u001b[01;33mminikube\u001b[0m$ Switching to odata-minikube  environment\n",
      "Switched to context \"minikube\".\n",
      "Connected to minikube\n",
      "\u001b[01;33mminikube\u001b[0m$ Switched to context \"minikube\".\n",
      "Connected to minikube\n",
      "RELEASE_NAME=odata-minikube-odata-odata-minikube\n",
      "CHART_DIRECTORY=charts-external/odata\n",
      "Release \"odata-minikube-odata-odata-minikube\" has been upgraded. Happy Helming!\n",
      "LAST DEPLOYED: Thu Oct 11 17:58:40 2018\n",
      "NAMESPACE: odata-minikube\n",
      "STATUS: DEPLOYED\n",
      "\n",
      "RESOURCES:\n",
      "==> v1/ConfigMap\n",
      "NAME   AGE\n",
      "ckan   1d\n",
      "nginx  1d\n",
      "\n",
      "==> v1/Service\n",
      "ckan-jobs-db  1d\n",
      "ckan          1d\n",
      "datapusher    1d\n",
      "datastore-db  1d\n",
      "db            1d\n",
      "nginx         1d\n",
      "redis         1d\n",
      "solr          1d\n",
      "\n",
      "==> v1beta1/Deployment\n",
      "ckan          2s\n",
      "ckan-jobs-db  2s\n",
      "ckan-jobs     2s\n",
      "datastore-db  1d\n",
      "db            1d\n",
      "nginx         2s\n",
      "redis         1d\n",
      "solr          1d\n",
      "\n",
      "==> v1/Pod(related)\n",
      "\n",
      "NAME                           READY  STATUS             RESTARTS  AGE\n",
      "ckan-6989694f77-zphtx          0/1    Init:0/2           0         1s\n",
      "ckan-jobs-db-54565fbc7c-4dd9v  0/1    Pending            0         1s\n",
      "ckan-jobs-8454ddbbb8-b7nch     0/2    Init:0/2           0         1s\n",
      "datastore-db-77f5554686-ts25l  1/1    Terminating        2         39m\n",
      "db-c586848c9-2xsjf             2/2    Terminating        0         40m\n",
      "nginx-69d85f565f-4pqsq         0/1    ContainerCreating  0         1s\n",
      "nginx-69d85f565f-cvt52         0/1    Pending            0         1s\n",
      "redis-688f66b5d4-sm4vr         1/1    Running            0         39m\n",
      "solr-58fbdbf8fc-zz6nm          1/1    Terminating        0         38m\n",
      "\n",
      "\n",
      "Great Success!\n"
     ]
    },
    {
     "ename": "",
     "evalue": "1",
     "execution_count": 20,
     "output_type": "error",
     "traceback": []
    }
   ],
   "source": [
    "source switch_environment.sh odata-minikube\n",
    "./helm_upgrade_external_chart.sh odata"
   ]
  },
  {
   "cell_type": "code",
   "execution_count": 40,
   "metadata": {},
   "outputs": [
    {
     "name": "stdout",
     "output_type": "stream",
     "text": [
      "\u001b[01;33mminikube\u001b[0m$ NAME                            READY     STATUS    RESTARTS   AGE\n",
      "ckan-6989694f77-zphtx           0/1       Running   0          52s\n",
      "ckan-jobs-8454ddbbb8-b7nch      2/2       Running   0          52s\n",
      "ckan-jobs-db-54565fbc7c-4dd9v   1/1       Running   0          52s\n",
      "datastore-db-56bd444b9c-5zbvw   1/1       Running   0          40s\n",
      "db-7dff9965dd-mlgrn             1/1       Running   0          44s\n",
      "nginx-69d85f565f-4pqsq          1/1       Running   0          52s\n",
      "nginx-69d85f565f-cvt52          1/1       Running   0          52s\n",
      "redis-688f66b5d4-sm4vr          1/1       Running   0          40m\n",
      "solr-756d5f5687-fbl5k           1/1       Running   0          12s\n"
     ]
    },
    {
     "ename": "",
     "evalue": "1",
     "execution_count": 40,
     "output_type": "error",
     "traceback": []
    }
   ],
   "source": [
    "kubectl get pods"
   ]
  },
  {
   "cell_type": "markdown",
   "metadata": {},
   "source": [
    "#### Start the supervisord daemon\n",
    "\n",
    "This starts port forwards for all the infrastructure componnets from localhost to the Minikube cluster"
   ]
  },
  {
   "cell_type": "code",
   "execution_count": null,
   "metadata": {},
   "outputs": [],
   "source": [
    "supervisord -c environments/odata-minikube/local-dev-supervisord.conf"
   ]
  },
  {
   "cell_type": "markdown",
   "metadata": {},
   "source": [
    "#### Ensure all port forwards are running"
   ]
  },
  {
   "cell_type": "code",
   "execution_count": 41,
   "metadata": {},
   "outputs": [
    {
     "name": "stdout",
     "output_type": "stream",
     "text": [
      "\u001b[01;33mminikube\u001b[0m$ ckan-gunicorn                    STOPPED   Not started\n",
      "ckan-jobs                        STOPPED   Not started\n",
      "port-forward-ckan-jobs-db        FATAL     Exited too quickly (process log may have details)\n",
      "port-forward-datastore-db        RUNNING   pid 20018, uptime 0:38:59\n",
      "port-forward-db                  RUNNING   pid 20020, uptime 0:38:59\n",
      "port-forward-redis               RUNNING   pid 20021, uptime 0:38:59\n",
      "port-forward-solr                RUNNING   pid 20019, uptime 0:38:59\n"
     ]
    },
    {
     "ename": "",
     "evalue": "1",
     "execution_count": 41,
     "output_type": "error",
     "traceback": []
    }
   ],
   "source": [
    "supervisorctl -c environments/odata-minikube/local-dev-supervisord.conf status"
   ]
  },
  {
   "cell_type": "markdown",
   "metadata": {},
   "source": [
    "#### Try a reload if there are problems"
   ]
  },
  {
   "cell_type": "code",
   "execution_count": 43,
   "metadata": {},
   "outputs": [
    {
     "name": "stdout",
     "output_type": "stream",
     "text": [
      "\u001b[01;33mminikube\u001b[0m$ Restarted supervisord\n",
      "\u001b[01;33mminikube\u001b[0m$ \u001b[01;33mminikube\u001b[0m$ ckan-gunicorn                    STOPPED   Not started\n",
      "ckan-jobs                        STOPPED   Not started\n",
      "port-forward-ckan-jobs-db        STARTING  \n",
      "port-forward-datastore-db        STARTING  \n",
      "port-forward-db                  STARTING  \n",
      "port-forward-redis               STARTING  \n",
      "port-forward-solr                STARTING  \n"
     ]
    },
    {
     "ename": "",
     "evalue": "1",
     "execution_count": 43,
     "output_type": "error",
     "traceback": []
    }
   ],
   "source": [
    "supervisorctl -c environments/odata-minikube/local-dev-supervisord.conf reload"
   ]
  },
  {
   "cell_type": "code",
   "execution_count": 45,
   "metadata": {},
   "outputs": [
    {
     "name": "stdout",
     "output_type": "stream",
     "text": [
      "\u001b[01;33mminikube\u001b[0m$ ckan-gunicorn                    STOPPED   Not started\n",
      "ckan-jobs                        STOPPED   Not started\n",
      "port-forward-ckan-jobs-db        RUNNING   pid 27356, uptime 0:00:17\n",
      "port-forward-datastore-db        RUNNING   pid 27357, uptime 0:00:17\n",
      "port-forward-db                  RUNNING   pid 27359, uptime 0:00:17\n",
      "port-forward-redis               RUNNING   pid 27360, uptime 0:00:17\n",
      "port-forward-solr                RUNNING   pid 27358, uptime 0:00:17\n"
     ]
    },
    {
     "ename": "",
     "evalue": "1",
     "execution_count": 45,
     "output_type": "error",
     "traceback": []
    }
   ],
   "source": [
    "supervisorctl -c environments/odata-minikube/local-dev-supervisord.conf status"
   ]
  },
  {
   "cell_type": "markdown",
   "metadata": {},
   "source": [
    "#### Clone the data4dappl project"
   ]
  },
  {
   "cell_type": "code",
   "execution_count": null,
   "metadata": {},
   "outputs": [],
   "source": [
    "! [ -e ../data4dappl ] && git clone https://github.com/OriHoch/data4dappl.git ../data4dappl"
   ]
  },
  {
   "cell_type": "markdown",
   "metadata": {},
   "source": [
    "#### Prepare the CKAN configuration file\n",
    "\n",
    "This copies the configuartion from the minikube ckan pod and modifies some values to make it suitable for local development"
   ]
  },
  {
   "cell_type": "code",
   "execution_count": 46,
   "metadata": {},
   "outputs": [
    {
     "name": "stdout",
     "output_type": "stream",
     "text": [
      "\u001b[01;33mminikube\u001b[0m$ \u001b[01;33mminikube\u001b[0m$ \u001b[01;33mminikube\u001b[0m$ \u001b[01;33mminikube\u001b[0m$ \u001b[01;33mminikube\u001b[0m$ \u001b[01;33mminikube\u001b[0m$ \u001b[01;33mminikube\u001b[0m$ Modfying configuration file from pod, saving to environments/odata-minikube/ckan-local-development.ini\n",
      "Great Success\n"
     ]
    },
    {
     "ename": "",
     "evalue": "1",
     "execution_count": 46,
     "output_type": "error",
     "traceback": []
    }
   ],
   "source": [
    "CKAN_LOCAL_DEVELOPMENT_INI=\"environments/odata-minikube/ckan-local-development.ini\"\n",
    "CKAN_LOCAL_DEVELOPMENT_WHO_INI=\"environments/odata-minikube/who.ini\"\n",
    "\n",
    "# delete the existing file to force recreate of the configuration file\n",
    "rm -f \"${CKAN_LOCAL_DEVELOPMENT_INI}\"\n",
    "\n",
    "if ! [ -e \"${CKAN_LOCAL_DEVELOPMENT_INI}\" ]; then\n",
    "    echo Modfying configuration file from pod, saving to \"${CKAN_LOCAL_DEVELOPMENT_INI}\"\n",
    "    ./kubectl.sh exec ckan cat /etc/ckan/production.ini \\\n",
    "        | sed -e 's/redis:6379/localhost:6379/g' \\\n",
    "        | sed -e 's/solr:8983/localhost:8983/g' \\\n",
    "        | sed -e 's/db\\/ckan/localhost\\/ckan/g' \\\n",
    "        | sed -e 's/ckan-jobs-db\\/postgres/localhost:5433\\/postgres/g' \\\n",
    "        | sed -e 's/datastore-db\\/datastore/localhost:5434\\/datastore/g' \\\n",
    "            > \"${CKAN_LOCAL_DEVELOPMENT_INI}\" &&\\\n",
    "    ./kubectl.sh exec ckan cat /etc/ckan/who.ini > \"${CKAN_LOCAL_DEVELOPMENT_WHO_INI}\"\n",
    "    if [ \"$?\" == \"0\" ]; then\n",
    "        echo Great Success\n",
    "    else\n",
    "        echo Failed to process configuration file\n",
    "    fi\n",
    "else\n",
    "    echo Configuration file already exists, delete to recreate: \"${CKAN_LOCAL_DEVELOPMENT_INI}\"\n",
    "fi"
   ]
  },
  {
   "cell_type": "markdown",
   "metadata": {},
   "source": [
    "#### Install the project dependencies"
   ]
  },
  {
   "cell_type": "code",
   "execution_count": null,
   "metadata": {},
   "outputs": [],
   "source": [
    "( cd ../data4dappl; bin/install.sh )"
   ]
  },
  {
   "cell_type": "markdown",
   "metadata": {},
   "source": [
    "#### Start Gunicorn which serves the CKAN web-app"
   ]
  },
  {
   "cell_type": "code",
   "execution_count": 47,
   "metadata": {},
   "outputs": [
    {
     "name": "stdout",
     "output_type": "stream",
     "text": [
      "\u001b[01;33mminikube\u001b[0m$ [2018-10-11 18:01:28 +0000] [27511] [INFO] Starting gunicorn 19.9.0\n",
      "[2018-10-11 18:01:28 +0000] [27511] [INFO] Listening at: http://0.0.0.0:5000 (27511)\n",
      "[2018-10-11 18:01:28 +0000] [27511] [INFO] Using worker: sync\n",
      "[2018-10-11 18:01:28 +0000] [27522] [INFO] Booting worker with pid: 27522\n",
      "2018-10-11 18:01:29,998 INFO  [ckan.config.environment] Loading static files from public\n",
      "2018-10-11 18:01:32,966 INFO  [ckan.config.environment] Loading templates from /home/ori/virtualenvs/data4dappl-68r7vFlY/src/ckan/ckan/templates\n",
      "2018-10-11 18:01:34,573 INFO  [ckan.config.environment] Loading templates from /home/ori/virtualenvs/data4dappl-68r7vFlY/src/ckan/ckan/templates\n",
      "2018-10-11 18:01:43,789 INFO  [ckan.lib.base]  /group render time 2.739 seconds\n",
      "2018-10-11 18:01:43,891 INFO  [ckan.lib.base]  /uploads/group/2018-06-04-164928.041018Capture.PNG render time 0.053 seconds\n",
      "2018-10-11 18:01:44,174 INFO  [ckan.lib.base]  /uploads/group/2018-06-04-164928.041018Capture.PNG render time 0.257 seconds\n",
      "2018-10-11 18:01:44,213 INFO  [ckan.lib.base]  /uploads/group/2018-06-05-073526.231579Capture.PNG render time 0.024 seconds\n",
      "2018-10-11 18:01:44,454 INFO  [ckan.lib.base]  /uploads/group/2018-06-05-073526.231579Capture.PNG render time 0.229 seconds\n",
      "2018-10-11 18:01:44,584 INFO  [ckan.lib.base]  /uploads/group/2018-06-04-164928.041018Capture.PNG render time 0.032 seconds\n",
      "2018-10-11 18:01:44,726 INFO  [ckan.lib.base]  /uploads/group/2018-06-04-164928.041018Capture.PNG render time 0.133 seconds\n",
      "2018-10-11 18:01:44,756 INFO  [ckan.lib.base]  /uploads/group/2018-06-05-073526.231579Capture.PNG render time 0.021 seconds\n",
      "2018-10-11 18:01:44,954 INFO  [ckan.lib.base]  /uploads/group/2018-06-05-073526.231579Capture.PNG render time 0.188 seconds\n",
      "2018-10-11 18:01:46,968 INFO  [ckan.lib.base]  /group/hit render time 0.724 seconds\n",
      "2018-10-11 18:01:48,839 INFO  [ckan.lib.base]  /group/about/hit render time 0.408 seconds\n",
      "2018-10-11 18:01:52,393 INFO  [ckan.lib.base]  /group render time 2.117 seconds\n",
      "2018-10-11 18:01:52,564 INFO  [ckan.lib.base]  /uploads/group/2018-06-04-164928.041018Capture.PNG render time 0.074 seconds\n",
      "2018-10-11 18:01:52,972 INFO  [ckan.lib.base]  /uploads/group/2018-06-04-164928.041018Capture.PNG render time 0.335 seconds\n",
      "2018-10-11 18:01:53,026 INFO  [ckan.lib.base]  /uploads/group/2018-06-05-073526.231579Capture.PNG render time 0.031 seconds\n",
      "2018-10-11 18:01:53,200 INFO  [ckan.lib.base]  /uploads/group/2018-06-05-073526.231579Capture.PNG render time 0.153 seconds\n",
      "2018-10-11 18:01:55,094 INFO  [ckan.lib.base]  /uploads/group/2018-06-04-164928.041018Capture.PNG render time 0.013 seconds\n",
      "2018-10-11 18:01:55,220 INFO  [ckan.lib.base]  /uploads/group/2018-06-04-164928.041018Capture.PNG render time 0.122 seconds\n",
      "2018-10-11 18:01:55,253 INFO  [ckan.lib.base]  /uploads/group/2018-06-05-073526.231579Capture.PNG render time 0.017 seconds\n",
      "2018-10-11 18:01:55,369 INFO  [ckan.lib.base]  /uploads/group/2018-06-05-073526.231579Capture.PNG render time 0.108 seconds\n",
      "[2018-10-11 18:01:55 +0000] [27511] [INFO] Handling signal: int\n",
      "[2018-10-11 18:01:55 +0000] [27522] [INFO] Worker exiting (pid: 27522)\n",
      "[2018-10-11 18:01:55 +0000] [27511] [INFO] Shutting down: Master\n"
     ]
    }
   ],
   "source": [
    "( cd ../data4dappl\n",
    "  pipenv run gunicorn \\\n",
    "      --paste ../hasadna-k8s/${CKAN_LOCAL_DEVELOPMENT_INI:-environments/odata-minikube/ckan-local-development.ini} )"
   ]
  },
  {
   "cell_type": "markdown",
   "metadata": {},
   "source": [
    "Site should be available at http://localhost:5000"
   ]
  },
  {
   "cell_type": "markdown",
   "metadata": {},
   "source": [
    "#### Start Gunicorn in the background"
   ]
  },
  {
   "cell_type": "code",
   "execution_count": null,
   "metadata": {},
   "outputs": [],
   "source": [
    "supervisorctl -c environments/odata-minikube/local-dev-supervisord.conf start ckan-gunicorn"
   ]
  },
  {
   "cell_type": "markdown",
   "metadata": {},
   "source": [
    "#### Get Gunicorn logs"
   ]
  },
  {
   "cell_type": "code",
   "execution_count": null,
   "metadata": {},
   "outputs": [],
   "source": [
    "supervisorctl -c environments/odata-minikube/local-dev-supervisord.conf tail ckan-gunicorn"
   ]
  },
  {
   "cell_type": "markdown",
   "metadata": {},
   "source": [
    "#### Restart Services and port-forwards\n",
    "\n",
    "Once everything is setup you should run this to ensure services are connected and working properly\n",
    "\n",
    "Occasionally you might need to run this again if you encounter wierd problems"
   ]
  },
  {
   "cell_type": "code",
   "execution_count": 48,
   "metadata": {},
   "outputs": [
    {
     "name": "stdout",
     "output_type": "stream",
     "text": [
      "\u001b[01;33mminikube\u001b[0m$ Remove deployments which should run locally\n",
      "\u001b[01;33mminikube\u001b[0m$ deployment \"ckan\" deleted\n",
      "deployment \"nginx\" deleted\n",
      "deployment \"ckan-jobs\" deleted\n",
      "Error from server (NotFound): deployments.extensions \"pipelines\" not found\n",
      "\u001b[01;33mminikube\u001b[0m$ \u001b[01;33mminikube\u001b[0m$ Force restart of infrastructure components\n",
      "\u001b[01;33mminikube\u001b[0m$ [1] 27673\n",
      "[2] 27674\n",
      "[3] 27675\n",
      "[4] 27676\n",
      "[5] 27677\n",
      "\u001b[01;33mminikube\u001b[0m$ error: open /home/ori/.kube/config.lock: file exists\n",
      "Switched to context \"minikube\".\n",
      "Switched to context \"minikube\".\n",
      "error: open /home/ori/.kube/config.lock: file exists\n",
      "Switched to context \"minikube\".\n",
      "Switched to context \"minikube\".\n",
      "Connected to minikube\n",
      "Connected to minikube\n",
      "Connected to minikube\n",
      "Connected to minikube\n",
      "Connected to minikube\n",
      "deployment \"solr\" patched\n",
      "deployment \"redis\" patched\n",
      "deployment \"ckan-jobs-db\" patched\n",
      "deployment \"db\" patched\n",
      "deployment \"datastore-db\" patched\n",
      "Waiting for rollout to finish: 0 out of 1 new replicas have been updated...\n",
      "Waiting for rollout to finish: 0 out of 1 new replicas have been updated...\n",
      "Waiting for rollout to finish: 0 out of 1 new replicas have been updated...\n",
      "Waiting for rollout to finish: 0 out of 1 new replicas have been updated...\n",
      "Waiting for rollout to finish: 0 out of 1 new replicas have been updated...\n",
      "Waiting for rollout to finish: 0 out of 1 new replicas have been updated...\n",
      "Waiting for rollout to finish: 0 out of 1 new replicas have been updated...\n",
      "Waiting for rollout to finish: 0 out of 1 new replicas have been updated...\n",
      "Waiting for rollout to finish: 0 out of 1 new replicas have been updated...\n",
      "Waiting for rollout to finish: 0 out of 1 new replicas have been updated...\n",
      "Waiting for rollout to finish: 0 out of 1 new replicas have been updated...\n",
      "Waiting for rollout to finish: 0 out of 1 new replicas have been updated...\n",
      "Waiting for rollout to finish: 0 out of 1 new replicas have been updated...\n",
      "Waiting for rollout to finish: 0 of 1 updated replicas are available...\n",
      "Waiting for rollout to finish: 0 out of 1 new replicas have been updated...\n",
      "Waiting for rollout to finish: 0 out of 1 new replicas have been updated...\n",
      "Waiting for rollout to finish: 0 of 1 updated replicas are available...\n",
      "deployment \"datastore-db\" successfully rolled out\n",
      "deployment \"redis\" successfully rolled out\n",
      "Waiting for rollout to finish: 0 out of 1 new replicas have been updated...\n",
      "Waiting for rollout to finish: 0 out of 1 new replicas have been updated...\n",
      "Waiting for rollout to finish: 0 of 1 updated replicas are available...\n",
      "Waiting for rollout to finish: 0 out of 1 new replicas have been updated...\n",
      "Waiting for rollout to finish: 0 out of 1 new replicas have been updated...\n",
      "Waiting for rollout to finish: 0 of 1 updated replicas are available...\n",
      "deployment \"db\" successfully rolled out\n",
      "[1]   Done                    ./force_update.sh $DEPLOYMENT\n",
      "[2]   Done                    ./force_update.sh $DEPLOYMENT\n",
      "[4]-  Done                    ./force_update.sh $DEPLOYMENT\n",
      "deployment \"ckan-jobs-db\" successfully rolled out\n",
      "[3]-  Done                    ./force_update.sh $DEPLOYMENT\n",
      "Waiting for rollout to finish: 0 out of 1 new replicas have been updated...\n",
      "Waiting for rollout to finish: 0 out of 1 new replicas have been updated...\n",
      "Waiting for rollout to finish: 0 of 1 updated replicas are available...\n",
      "deployment \"solr\" successfully rolled out\n",
      "[5]+  Done                    ./force_update.sh $DEPLOYMENT\n",
      "\u001b[01;33mminikube\u001b[0m$ \u001b[01;33mminikube\u001b[0m$ reload gunicorn\n",
      "\u001b[01;33mminikube\u001b[0m$ Restarted supervisord\n",
      "\u001b[01;33mminikube\u001b[0m$ error: <class 'xmlrpclib.Fault'>, <Fault 6: 'SHUTDOWN_STATE'>: file: /usr/lib/python2.7/xmlrpclib.py line: 800\n",
      "ckan-gunicorn                    STOPPED   Not started\n",
      "ckan-jobs                        STOPPED   Not started\n",
      "port-forward-ckan-jobs-db        RUNNING   pid 28001, uptime 0:00:01\n",
      "port-forward-datastore-db        RUNNING   pid 28002, uptime 0:00:01\n",
      "port-forward-db                  RUNNING   pid 28004, uptime 0:00:01\n",
      "port-forward-redis               RUNNING   pid 28005, uptime 0:00:01\n",
      "port-forward-solr                RUNNING   pid 28003, uptime 0:00:01\n",
      "\u001b[01;33mminikube\u001b[0m$ \u001b[01;33mminikube\u001b[0m$ Start all services\n",
      "\u001b[01;33mminikube\u001b[0m$ ckan-gunicorn: started\n",
      "ckan-jobs: started\n",
      "\u001b[01;33mminikube\u001b[0m$ ckan-gunicorn                    RUNNING   pid 28099, uptime 0:00:02\n",
      "ckan-jobs                        RUNNING   pid 28100, uptime 0:00:02\n",
      "port-forward-ckan-jobs-db        RUNNING   pid 28001, uptime 0:00:03\n",
      "port-forward-datastore-db        RUNNING   pid 28002, uptime 0:00:03\n",
      "port-forward-db                  RUNNING   pid 28004, uptime 0:00:03\n",
      "port-forward-redis               RUNNING   pid 28005, uptime 0:00:03\n",
      "port-forward-solr                RUNNING   pid 28003, uptime 0:00:03\n"
     ]
    },
    {
     "ename": "",
     "evalue": "1",
     "execution_count": 48,
     "output_type": "error",
     "traceback": []
    }
   ],
   "source": [
    "echo Remove deployments which should run locally\n",
    "kubectl delete deployment --namespace odata-minikube --context minikube ckan nginx ckan-jobs pipelines\n",
    "\n",
    "echo Force restart of infrastructure components\n",
    "for DEPLOYMENT in db datastore-db ckan-jobs-db redis solr; do\n",
    "    ./force_update.sh $DEPLOYMENT &\n",
    "done\n",
    "wait\n",
    "\n",
    "echo reload gunicorn\n",
    "supervisorctl -c environments/odata-minikube/local-dev-supervisord.conf reload\n",
    "while [ \"5\" != \"`supervisorctl -c environments/odata-minikube/local-dev-supervisord.conf status | tee -a /dev/stderr | grep RUNNING | wc -l`\" ]\n",
    "do sleep 2; done\n",
    "\n",
    "echo Start all services\n",
    "supervisorctl -c environments/odata-minikube/local-dev-supervisord.conf start all\n",
    "while [ \"7\" != \"`supervisorctl -c environments/odata-minikube/local-dev-supervisord.conf status | tee -a /dev/stderr | grep RUNNING | wc -l`\" ]\n",
    "do sleep 2; done"
   ]
  },
  {
   "cell_type": "markdown",
   "metadata": {},
   "source": [
    "Site should be available at http://localhost:5000"
   ]
  },
  {
   "cell_type": "markdown",
   "metadata": {},
   "source": [
    "## Local Development of Odata CKAN Pipelines\n",
    "\n",
    "You should run the steps for local development of CKAN first\n",
    "\n",
    "Create a pipenv for the pipelines"
   ]
  },
  {
   "cell_type": "code",
   "execution_count": null,
   "metadata": {},
   "outputs": [],
   "source": [
    "TEMPFILE=`mktemp`\n",
    "curl https://raw.githubusercontent.com/OriHoch/ckanext-datapackage_pipelines/master/datapackage_pipelines_ckanext/requirements.txt > $TEMPFILE\n",
    "( cd ../data4dappl/ckan/ckanext-odata_org_il/ckanext/odata_org_il/pipelines\n",
    "  pipenv install --python 3 &&\\\n",
    "  pipenv install -r $TEMPFILE &&\\\n",
    "  pipenv run pip install \\\n",
    "      -e 'git+https://github.com/OriHoch/ckanext-datapackage_pipelines#subdirectory=datapackage_pipelines_ckanext&egg=datapackage_pipelines_ckanext'\n",
    ")\n",
    "rm $TEMPFILE"
   ]
  },
  {
   "cell_type": "markdown",
   "metadata": {},
   "source": [
    "#### Set the required env vars to run the pipelines"
   ]
  },
  {
   "cell_type": "code",
   "execution_count": null,
   "metadata": {},
   "outputs": [],
   "source": [
    "export CKAN_API_KEY=`kubectl get secrets --context=minikube --namespace=odata-minikube pipelines-sysadmin -o json | jq -r .data.apikey | base64 -d`\n",
    "export CKAN_URL='http://localhost:5000'"
   ]
  },
  {
   "cell_type": "markdown",
   "metadata": {},
   "source": [
    "#### List the available pipelines"
   ]
  },
  {
   "cell_type": "code",
   "execution_count": null,
   "metadata": {},
   "outputs": [],
   "source": [
    "( cd ../data4dappl/ckan/ckanext-odata_org_il/ckanext/odata_org_il/pipelines\n",
    "  pipenv run dpp )"
   ]
  },
  {
   "cell_type": "markdown",
   "metadata": {},
   "source": [
    "#### Run a pipeline"
   ]
  },
  {
   "cell_type": "code",
   "execution_count": null,
   "metadata": {},
   "outputs": [],
   "source": [
    "# Force recreate of the foi offices resource\n",
    "rm -rf /var/lib/ckan/pipelines/odata_org_il/foi_offices\n",
    "\n",
    "( cd ../data4dappl/ckan/ckanext-odata_org_il/ckanext/odata_org_il/pipelines\n",
    "  pipenv run dpp run --verbose ./download_foi_offices,./update_foi_offices_resource )"
   ]
  },
  {
   "cell_type": "code",
   "execution_count": null,
   "metadata": {},
   "outputs": [],
   "source": []
  }
 ],
 "metadata": {
  "kernelspec": {
   "display_name": "Bash",
   "language": "bash",
   "name": "bash"
  },
  "language_info": {
   "codemirror_mode": "shell",
   "file_extension": ".sh",
   "mimetype": "text/x-sh",
   "name": "bash"
  }
 },
 "nbformat": 4,
 "nbformat_minor": 2
}
