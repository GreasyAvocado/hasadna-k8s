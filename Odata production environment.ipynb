{
 "cells": [
  {
   "cell_type": "markdown",
   "metadata": {},
   "source": [
    "# Using the Odata production environment\n",
    "\n",
    "## Prerequisites\n",
    "\n",
    "The production environment is hosted on Google Kubernetes Engine, you will need relevant permissions to access it\n",
    "\n",
    "#### Install Helm client in the correct version\n",
    "\n",
    "```\n",
    "bash apps_travis_script.sh install_helm\n",
    "```"
   ]
  },
  {
   "cell_type": "markdown",
   "metadata": {},
   "source": [
    "## Switch to the odata environment"
   ]
  },
  {
   "cell_type": "code",
   "execution_count": null,
   "metadata": {},
   "outputs": [],
   "source": [
    "source switch_environment.sh odata"
   ]
  },
  {
   "cell_type": "markdown",
   "metadata": {},
   "source": [
    "#### Verify you are connected to the right environment"
   ]
  },
  {
   "cell_type": "code",
   "execution_count": null,
   "metadata": {},
   "outputs": [],
   "source": [
    "cat environments/${K8S_ENVIRONMENT_NAME}/.env\n",
    "kubectl config get-contexts `kubectl config current-context`"
   ]
  },
  {
   "cell_type": "markdown",
   "metadata": {},
   "source": [
    "#### Get pods"
   ]
  },
  {
   "cell_type": "code",
   "execution_count": null,
   "metadata": {},
   "outputs": [],
   "source": [
    "kubectl get pods"
   ]
  },
  {
   "cell_type": "markdown",
   "metadata": {},
   "source": [
    "## Deploying infrastructure changes\n",
    "\n",
    "After making some changes to infrastructure, you should pull, commit and push, then run the deployment procedure\n",
    "\n",
    "#### Dry run"
   ]
  },
  {
   "cell_type": "code",
   "execution_count": null,
   "metadata": {},
   "outputs": [],
   "source": [
    "./helm_upgrade_external_chart.sh odata --debug --dry-run"
   ]
  },
  {
   "cell_type": "markdown",
   "metadata": {},
   "source": [
    "#### Deploy"
   ]
  },
  {
   "cell_type": "code",
   "execution_count": 41,
   "metadata": {},
   "outputs": [
    {
     "name": "stdout",
     "output_type": "stream",
     "text": [
      "\u001b[01;33mhasadna-general-hasadna-cluster-odata-blue\u001b[0m$ Switched to context \"gke_hasadna-general_europe-west1-b_hasadna-cluster\".\n",
      "Connected to hasadna-general-hasadna-cluster-odata-blue\n",
      "RELEASE_NAME=odata-odata-odata-blue\n",
      "CHART_DIRECTORY=charts-external/odata\n",
      "Release \"odata-odata-odata-blue\" has been upgraded. Happy Helming!\n",
      "LAST DEPLOYED: Thu Oct 11 13:06:43 2018\n",
      "NAMESPACE: odata-blue\n",
      "STATUS: DEPLOYED\n",
      "\n",
      "RESOURCES:\n",
      "==> v1/ConfigMap\n",
      "NAME   DATA  AGE\n",
      "ckan   2     9d\n",
      "nginx  1     9d\n",
      "\n",
      "==> v1/Service\n",
      "NAME          TYPE       CLUSTER-IP     EXTERNAL-IP  PORT(S)   AGE\n",
      "ckan-jobs-db  ClusterIP  10.23.253.50   <none>       5432/TCP  9d\n",
      "ckan          ClusterIP  10.23.244.86   <none>       5000/TCP  9d\n",
      "datapusher    ClusterIP  10.23.246.172  <none>       8800/TCP  9d\n",
      "datastore-db  ClusterIP  10.23.255.146  <none>       5432/TCP  9d\n",
      "db            ClusterIP  10.23.241.7    <none>       5432/TCP  9d\n",
      "nginx         ClusterIP  10.23.246.225  <none>       80/TCP    9d\n",
      "pipelines     ClusterIP  10.23.255.149  <none>       5050/TCP  9d\n",
      "redis         ClusterIP  10.23.243.218  <none>       6379/TCP  9d\n",
      "solr          ClusterIP  10.23.247.227  <none>       8983/TCP  9d\n",
      "\n",
      "==> v1beta1/Deployment\n",
      "NAME          DESIRED  CURRENT  UP-TO-DATE  AVAILABLE  AGE\n",
      "ckan          2        3        2           1          9d\n",
      "ckan-jobs-db  1        1        1           1          7d\n",
      "ckan-jobs     1        0        0           0          7d\n",
      "datastore-db  1        1        1           1          9d\n",
      "db            1        1        1           1          9d\n",
      "nginx         2        2        2           2          9d\n",
      "pipelines     1        1        1           1          9d\n",
      "redis         1        1        1           1          9d\n",
      "solr          1        1        1           1          9d\n",
      "\n",
      "==> v1/Pod(related)\n",
      "NAME                           READY  STATUS       RESTARTS  AGE\n",
      "ckan-5fd44cf7f8-52d2p          0/1    Init:0/2     0         1s\n",
      "ckan-5fd44cf7f8-gt7cn          0/1    Init:0/2     0         0s\n",
      "ckan-79d7cf4848-h86ww          1/1    Terminating  0         13m\n",
      "ckan-79d7cf4848-v6kmb          1/1    Running      0         13m\n",
      "ckan-jobs-db-6cc4978758-mb7gk  1/1    Running      0         7d\n",
      "ckan-jobs-5dc7bd5984-6r6bs     1/1    Terminating  0         13m\n",
      "datastore-db-944bfbc74-2nc7b   2/2    Running      0         7d\n",
      "db-7dd99b8547-vpf57            2/2    Running      0         9d\n",
      "nginx-66864dc7d9-rlrmj         1/1    Running      0         7d\n",
      "nginx-66864dc7d9-rrsf5         1/1    Running      0         7d\n",
      "pipelines-7d99478bcd-6qr5v     1/1    Running      0         12m\n",
      "redis-ffb5675bb-6qn5c          1/1    Running      0         7d\n",
      "solr-fc9666c75-jjpgg           1/1    Running      0         9d\n",
      "\n",
      "\n",
      "Great Success!\n"
     ]
    },
    {
     "ename": "",
     "evalue": "1",
     "execution_count": 41,
     "output_type": "error",
     "traceback": []
    }
   ],
   "source": [
    "./helm_upgrade_external_chart.sh odata"
   ]
  },
  {
   "cell_type": "markdown",
   "metadata": {},
   "source": [
    "#### Wait for pods to start"
   ]
  },
  {
   "cell_type": "code",
   "execution_count": 53,
   "metadata": {},
   "outputs": [
    {
     "name": "stdout",
     "output_type": "stream",
     "text": [
      "\u001b[01;33mhasadna-general-hasadna-cluster-odata-blue\u001b[0m$ NAME                            READY     STATUS    RESTARTS   AGE\n",
      "ckan-5fd44cf7f8-52d2p           1/1       Running   0          17m\n",
      "ckan-5fd44cf7f8-gt7cn           1/1       Running   0          17m\n",
      "ckan-jobs-645758bbf8-mxs2r      1/1       Running   0          16m\n",
      "ckan-jobs-db-6cc4978758-mb7gk   1/1       Running   0          7d\n",
      "datastore-db-944bfbc74-2nc7b    2/2       Running   0          7d\n",
      "db-7dd99b8547-vpf57             2/2       Running   0          9d\n",
      "nfs-f464599df-sbc87             1/1       Running   0          9d\n",
      "nginx-66864dc7d9-rlrmj          1/1       Running   0          7d\n",
      "nginx-66864dc7d9-rrsf5          1/1       Running   0          7d\n",
      "pipelines-7d99478bcd-6qr5v      1/1       Running   0          29m\n",
      "redis-ffb5675bb-6qn5c           1/1       Running   0          7d\n",
      "solr-fc9666c75-jjpgg            1/1       Running   0          9d\n"
     ]
    },
    {
     "ename": "",
     "evalue": "1",
     "execution_count": 53,
     "output_type": "error",
     "traceback": []
    }
   ],
   "source": [
    "kubectl get pods"
   ]
  },
  {
   "cell_type": "markdown",
   "metadata": {},
   "source": [
    "## Manage the CKAN pipelines server"
   ]
  },
  {
   "cell_type": "markdown",
   "metadata": {},
   "source": [
    "#### Start port forward to the pipelines dashboard"
   ]
  },
  {
   "cell_type": "code",
   "execution_count": 57,
   "metadata": {},
   "outputs": [
    {
     "name": "stdout",
     "output_type": "stream",
     "text": [
      "\u001b[01;33mhasadna-general-hasadna-cluster-odata-blue\u001b[0m$ Forwarding from 127.0.0.1:5050 -> 5050\n",
      "Handling connection for 5050\n",
      "Handling connection for 5050\n",
      "E1011 13:25:34.700573   21213 portforward.go:303] error copying from remote stream to local connection: readfrom tcp4 127.0.0.1:5050->127.0.0.1:44934: write tcp4 127.0.0.1:5050->127.0.0.1:44934: write: broken pipe\n",
      "Handling connection for 5050\n",
      "Handling connection for 5050\n",
      "E1011 13:26:13.078387   21213 portforward.go:271] error creating error stream for port 5050 -> 5050: Timeout occured\n",
      "Handling connection for 5050\n",
      "Handling connection for 5050\n",
      "Handling connection for 5050\n",
      "Handling connection for 5050\n",
      "E1011 13:32:47.843489   21213 portforward.go:271] error creating error stream for port 5050 -> 5050: Timeout occured\n",
      "Handling connection for 5050\n",
      "Handling connection for 5050\n",
      "Handling connection for 5050\n",
      "E1011 13:34:21.715182   21213 portforward.go:271] error creating error stream for port 5050 -> 5050: Timeout occured\n",
      "Handling connection for 5050\n",
      "Handling connection for 5050\n",
      "Handling connection for 5050\n",
      "Handling connection for 5050\n",
      "Handling connection for 5050\n",
      "Handling connection for 5050\n",
      "E1011 13:35:44.043927   21213 portforward.go:271] error creating error stream for port 5050 -> 5050: Timeout occured\n",
      "Handling connection for 5050\n",
      "Handling connection for 5050\n",
      "E1011 13:36:06.443400   21213 portforward.go:271] error creating error stream for port 5050 -> 5050: Timeout occured\n",
      "E1011 13:36:15.526889   21213 portforward.go:271] error creating error stream for port 5050 -> 5050: Timeout occured\n"
     ]
    }
   ],
   "source": [
    "kubectl port-forward $(./kubectl.sh get-pod-name pipelines) 5050"
   ]
  },
  {
   "cell_type": "markdown",
   "metadata": {},
   "source": [
    "Pipelines dashboard should be available at http://localhost:5050"
   ]
  },
  {
   "cell_type": "markdown",
   "metadata": {},
   "source": [
    "#### Run a pipeline manually"
   ]
  },
  {
   "cell_type": "code",
   "execution_count": 56,
   "metadata": {},
   "outputs": [
    {
     "name": "stdout",
     "output_type": "stream",
     "text": [
      "\u001b[01;33mhasadna-general-hasadna-cluster-odata-blue\u001b[0m$ [./ckanext-odata_org_il/update_foi_offices_resource:T_0] >>> INFO    :8e89a28e RUNNING ./ckanext-odata_org_il/update_foi_offices_resource\n",
      "[./ckanext-odata_org_il/update_foi_offices_resource:T_0] >>> INFO    :8e89a28e Collecting dependencies\n",
      "[./ckanext-odata_org_il/update_foi_offices_resource:T_0] >>> INFO    :8e89a28e Running async task\n",
      "[./ckanext-odata_org_il/update_foi_offices_resource:T_0] >>> INFO    :8e89a28e Waiting for completion\n",
      "[./ckanext-odata_org_il/update_foi_offices_resource:T_0] >>> INFO    :8e89a28e Async task starting\n",
      "[./ckanext-odata_org_il/update_foi_offices_resource:T_0] >>> INFO    :8e89a28e Searching for existing caches\n",
      "[./ckanext-odata_org_il/update_foi_offices_resource:T_0] >>> INFO    :8e89a28e Building process chain:\n",
      "[./ckanext-odata_org_il/update_foi_offices_resource:T_0] >>> INFO    :- ckanext.load_resource\n",
      "[./ckanext-odata_org_il/update_foi_offices_resource:T_0] >>> INFO    :- ckanext.load_resource\n",
      "[./ckanext-odata_org_il/update_foi_offices_resource:T_0] >>> INFO    :- ckanext.dump_to_path\n",
      "[./ckanext-odata_org_il/update_foi_offices_resource:T_0] >>> INFO    :- dump_foi_offices_to_ckan\n",
      "[./ckanext-odata_org_il/update_foi_offices_resource:T_0] >>> INFO    :- (sink)\n",
      "[./ckanext-odata_org_il/update_foi_offices_resource:T_0] >>> INFO    :ckanext.load_resource: DEBUG   :Starting new HTTPS connection (1): www.odata.org.il:443\n",
      "[./ckanext-odata_org_il/update_foi_offices_resource:T_0] >>> INFO    :ckanext.load_resource: DEBUG   :https://www.odata.org.il:443 \"GET /pipelines/config/odata_org_il HTTP/1.1\" 200 None\n",
      "[./ckanext-odata_org_il/update_foi_offices_resource:T_0] >>> INFO    :ckanext.load_resource: DEBUG   :Starting new HTTPS connection (1): www.odata.org.il:443\n",
      "[./ckanext-odata_org_il/update_foi_offices_resource:T_0] >>> INFO    :ckanext.load_resource: DEBUG   :https://www.odata.org.il:443 \"GET /pipelines/config/odata_org_il HTTP/1.1\" 200 None\n",
      "[./ckanext-odata_org_il/update_foi_offices_resource:T_0] >>> INFO    :ckanext.dump_to_path: DEBUG   :Starting new HTTPS connection (1): www.odata.org.il:443\n",
      "[./ckanext-odata_org_il/update_foi_offices_resource:T_0] >>> INFO    :ckanext.dump_to_path: DEBUG   :https://www.odata.org.il:443 \"GET /pipelines/config/odata_org_il HTTP/1.1\" 200 None\n",
      "[./ckanext-odata_org_il/update_foi_offices_resource:T_0] >>> INFO    :ckanext.load_resource: INFO    :Processed 1671 rows\n",
      "[./ckanext-odata_org_il/update_foi_offices_resource:T_0] >>> INFO    :8e89a28e DONE /usr/src/datapackage_pipelines_ckanext/datapackage_pipelines_ckanext/processors/load_resource.py\n",
      "[./ckanext-odata_org_il/update_foi_offices_resource:T_0] >>> INFO    :ckanext.load_resource: INFO    :Processed 3342 rows\n",
      "[./ckanext-odata_org_il/update_foi_offices_resource:T_0] >>> INFO    :8e89a28e DONE /usr/src/datapackage_pipelines_ckanext/datapackage_pipelines_ckanext/processors/load_resource.py\n",
      "[./ckanext-odata_org_il/update_foi_offices_resource:T_0] >>> INFO    :ckanext.dump_to_path: INFO    :Processed 3342 rows\n",
      "[./ckanext-odata_org_il/update_foi_offices_resource:T_0] >>> INFO    :8e89a28e DONE /pipelines/ckanext-odata_org_il/dump_foi_offices_to_ckan.py\n",
      "[./ckanext-odata_org_il/update_foi_offices_resource:T_0] >>> INFO    :8e89a28e DONE /usr/src/datapackage_pipelines_ckanext/datapackage_pipelines_ckanext/processors/dump_to_path.py\n",
      "[./ckanext-odata_org_il/update_foi_offices_resource:T_0] >>> INFO    :8e89a28e DONE /usr/local/lib/python3.6/site-packages/datapackage_pipelines/manager/../lib/internal/sink.py\n",
      "[./ckanext-odata_org_il/update_foi_offices_resource:T_0] >>> INFO    :8e89a28e DONE V ./ckanext-odata_org_il/update_foi_offices_resource {'.dpp': {'out-datapackage-url': '/var/lib/ckan/data/pipelines/odata_org_il/foi_offices/datapackage.json'}, 'bytes': 3978833, 'count_of_rows': 3342, 'dataset_name': '_', 'hash': 'dd7d218dc16aa0e55819823472a2b6b8'}\n",
      "INFO    :RESULTS:\n",
      "INFO    :SUCCESS: ./ckanext-odata_org_il/update_foi_offices_resource {'bytes': 3978833, 'count_of_rows': 3342, 'dataset_name': '_', 'hash': 'dd7d218dc16aa0e55819823472a2b6b8'}\n"
     ]
    },
    {
     "ename": "",
     "evalue": "1",
     "execution_count": 56,
     "output_type": "error",
     "traceback": []
    }
   ],
   "source": [
    "./kubectl.sh exec pipelines -- dpp run --verbose ./ckanext-odata_org_il/update_foi_offices_resource"
   ]
  },
  {
   "cell_type": "markdown",
   "metadata": {},
   "source": [
    "#### Run a CKAN request from the pipelines server"
   ]
  },
  {
   "cell_type": "code",
   "execution_count": null,
   "metadata": {},
   "outputs": [],
   "source": [
    "kubectl exec $(./kubectl.sh get-pod-name pipelines) -- bash -c \\\n",
    "    'wget -qO - $CKAN_URL/pipelines/config/odata_org_il --header \"Authorization: $CKAN_API_KEY\"'"
   ]
  },
  {
   "cell_type": "markdown",
   "metadata": {},
   "source": [
    "## Create a fresh DB backup"
   ]
  },
  {
   "cell_type": "code",
   "execution_count": 58,
   "metadata": {},
   "outputs": [
    {
     "name": "stdout",
     "output_type": "stream",
     "text": [
      "\u001b[01;33mhasadna-general-hasadna-cluster-odata-blue\u001b[0m$ Switching to odata  environment\n",
      "K8S_ENVIRONMENT_CONTEXT=gke_hasadna-general_europe-west1-b_hasadna-cluster\n",
      "Switched to context \"gke_hasadna-general_europe-west1-b_hasadna-cluster\".\n",
      "Connected to hasadna-general-hasadna-cluster-odata-blue\n",
      "\u001b[01;33mhasadna-general-hasadna-cluster-odata-blue\u001b[0m$ "
     ]
    },
    {
     "ename": "",
     "evalue": "1",
     "execution_count": 58,
     "output_type": "error",
     "traceback": []
    }
   ],
   "source": [
    "source switch_environment.sh odata\n",
    "./kubectl.sh exec db -c db -- bash /db-scripts/backup.sh"
   ]
  },
  {
   "cell_type": "markdown",
   "metadata": {},
   "source": [
    "#### Wait a few minutes, backup should be ready, verify using gsutil"
   ]
  },
  {
   "cell_type": "code",
   "execution_count": 70,
   "metadata": {},
   "outputs": [
    {
     "name": "stdout",
     "output_type": "stream",
     "text": [
      "\u001b[01;33mhasadna-general-hasadna-cluster-odata-blue\u001b[0m$    9139027  2018-10-11T13:53:05Z  gs://odata-k8s-backups/production/blue/ckan-db-dump-2018-10-11.ckan.dump\n",
      "TOTAL: 1 objects, 9139027 bytes (8.72 MiB)\n"
     ]
    },
    {
     "ename": "",
     "evalue": "1",
     "execution_count": 70,
     "output_type": "error",
     "traceback": []
    }
   ],
   "source": [
    "gsutil ls -p hasadna-odata -l \\\n",
    "    `kubectl exec $(./kubectl.sh get-pod-name db) -c db-ops \\\n",
    "        -- bash -c 'echo $BACKUP_TARGET_PREFIX$(date +%Y-%m-%d)$BACKUP_TARGET_SUFFIX'`"
   ]
  },
  {
   "cell_type": "markdown",
   "metadata": {},
   "source": [
    "Deploy an environment from backup - script automatically takes latest today's backup"
   ]
  },
  {
   "cell_type": "code",
   "execution_count": null,
   "metadata": {},
   "outputs": [],
   "source": []
  }
 ],
 "metadata": {
  "kernelspec": {
   "display_name": "Bash",
   "language": "bash",
   "name": "bash"
  },
  "language_info": {
   "codemirror_mode": "shell",
   "file_extension": ".sh",
   "mimetype": "text/x-sh",
   "name": "bash"
  }
 },
 "nbformat": 4,
 "nbformat_minor": 2
}
